{
 "cells": [
  {
   "cell_type": "code",
   "execution_count": 2,
   "metadata": {},
   "outputs": [],
   "source": [
    "############################################################\n",
    "# Tutorial Scipy Optimization\n",
    "############################################################"
   ]
  },
  {
   "cell_type": "code",
   "execution_count": 3,
   "metadata": {},
   "outputs": [
    {
     "data": {
      "text/plain": [
       "'\\nRef: https://realpython.com/python-scipy-cluster-optimize/\\nDocs: https://docs.scipy.org/doc/scipy/reference/\\nData: http://www.dt.fee.unicamp.br/~tiago/smsspamcollection/\\nTutorial 2: https://realpython.com/linear-programming-python/\\n'"
      ]
     },
     "execution_count": 3,
     "metadata": {},
     "output_type": "execute_result"
    }
   ],
   "source": [
    "\"\"\"\n",
    "Ref: https://realpython.com/python-scipy-cluster-optimize/\n",
    "Docs: https://docs.scipy.org/doc/scipy/reference/\n",
    "Data: http://www.dt.fee.unicamp.br/~tiago/smsspamcollection/\n",
    "Tutorial 2: https://realpython.com/linear-programming-python/\n",
    "\"\"\""
   ]
  },
  {
   "cell_type": "code",
   "execution_count": null,
   "metadata": {},
   "outputs": [],
   "source": []
  },
  {
   "cell_type": "code",
   "execution_count": 3,
   "metadata": {},
   "outputs": [],
   "source": [
    "############################################################\n",
    "# Import Libraries\n",
    "############################################################"
   ]
  },
  {
   "cell_type": "code",
   "execution_count": 4,
   "metadata": {},
   "outputs": [
    {
     "data": {
      "text/plain": [
       "'Note: When you want to use functionality from a module in SciPy, you need to\\n   import the module that you want to use specifically.'"
      ]
     },
     "execution_count": 4,
     "metadata": {},
     "output_type": "execute_result"
    }
   ],
   "source": [
    "import scipy\n",
    "import numpy as np\n",
    "from pathlib import Path\n",
    "import numpy as np\n",
    "import matplotlib.pyplot as plt\n",
    "from scipy.optimize import minimize_scalar\n",
    "from scipy.optimize import minimize, LinearConstraint\n",
    "'''Note: When you want to use functionality from a module in SciPy, you need to\n",
    "   import the module that you want to use specifically.'''"
   ]
  },
  {
   "cell_type": "code",
   "execution_count": null,
   "metadata": {},
   "outputs": [],
   "source": []
  },
  {
   "cell_type": "code",
   "execution_count": 5,
   "metadata": {},
   "outputs": [],
   "source": [
    "############################################################\n",
    "# Minimize 1 Variable Function\n",
    "############################################################"
   ]
  },
  {
   "cell_type": "code",
   "execution_count": 5,
   "metadata": {},
   "outputs": [
    {
     "data": {
      "text/plain": [
       "'A mathematical function that accepts one number and results in one output is\\ncalled a scalar function.'"
      ]
     },
     "execution_count": 5,
     "metadata": {},
     "output_type": "execute_result"
    }
   ],
   "source": [
    "'''A mathematical function that accepts one number and results in one output is\n",
    "called a scalar function.'''"
   ]
  },
  {
   "cell_type": "code",
   "execution_count": 6,
   "metadata": {},
   "outputs": [],
   "source": [
    "def qfunct(vector):\n",
    "    return [((3*(x**4)) - ((2*x) + 1)) for x in vector]"
   ]
  },
  {
   "cell_type": "code",
   "execution_count": 7,
   "metadata": {},
   "outputs": [
    {
     "data": {
      "text/plain": [
       "[<matplotlib.lines.Line2D at 0x275a612fdc0>]"
      ]
     },
     "execution_count": 7,
     "metadata": {},
     "output_type": "execute_result"
    },
    {
     "data": {
      "image/png": "[encoded data removed]",
      "text/plain": [
       "<Figure size 432x288 with 1 Axes>"
      ]
     },
     "metadata": {
      "needs_background": "light"
     },
     "output_type": "display_data"
    }
   ],
   "source": [
    "# Plot Function\n",
    "vector = [x for x in np.arange(-1.0, 1.0, 0.01)]\n",
    "figure, ax = plt.subplots()\n",
    "ax.plot(vector, qfunct(vector))"
   ]
  },
  {
   "cell_type": "code",
   "execution_count": null,
   "metadata": {},
   "outputs": [],
   "source": [
    "# Define Objective Function"
   ]
  },
  {
   "cell_type": "code",
   "execution_count": 8,
   "metadata": {},
   "outputs": [],
   "source": [
    "def obj_funct(x):\n",
    "    return 3 * x ** 4 - 2 * x + 1"
   ]
  },
  {
   "cell_type": "code",
   "execution_count": null,
   "metadata": {},
   "outputs": [],
   "source": [
    "# Pass Objective Function to scipy minimize_scalar\n",
    "\"\"\"obj_funct : first object that is passed to the minimize_scalar function\n",
    "   bracket :   initial guess for optimizer\n",
    "   method :    can be applied to tell optimizer within which bounds to search\n",
    "   bounds :    tuple of lower and upper bounds.\n",
    "   results :   scipy object that can be index by the result names.\n",
    "\"\"\""
   ]
  },
  {
   "cell_type": "code",
   "execution_count": 9,
   "metadata": {},
   "outputs": [],
   "source": [
    "v1_results = minimize_scalar(obj_funct, bracket=[.1, .2, .3], method='bounded', bounds=(-1, 1))"
   ]
  },
  {
   "cell_type": "code",
   "execution_count": 10,
   "metadata": {},
   "outputs": [
    {
     "name": "stdout",
     "output_type": "stream",
     "text": [
      "     fun: 0.17451818779090322\n",
      " message: 'Solution found.'\n",
      "    nfev: 12\n",
      "  status: 0\n",
      " success: True\n",
      "       x: 0.5503228424279959\n"
     ]
    }
   ],
   "source": [
    "print(v1_results)"
   ]
  },
  {
   "cell_type": "code",
   "execution_count": 11,
   "metadata": {},
   "outputs": [
    {
     "data": {
      "text/plain": [
       "<matplotlib.collections.LineCollection at 0x275a61e2c70>"
      ]
     },
     "execution_count": 11,
     "metadata": {},
     "output_type": "execute_result"
    },
    {
     "data": {
      "image/png": "[encoded data removed]",
      "text/plain": [
       "<Figure size 432x288 with 1 Axes>"
      ]
     },
     "metadata": {
      "needs_background": "light"
     },
     "output_type": "display_data"
    }
   ],
   "source": [
    "vector = [x for x in np.arange(-1.0, 1.0, 0.01)]\n",
    "figure, ax = plt.subplots()\n",
    "ax.plot(vector, qfunct(vector))\n",
    "ax.vlines(v1_results['x'], ymin=-2, ymax=0, colors='red')"
   ]
  },
  {
   "cell_type": "code",
   "execution_count": null,
   "metadata": {},
   "outputs": [],
   "source": []
  },
  {
   "cell_type": "code",
   "execution_count": 16,
   "metadata": {},
   "outputs": [],
   "source": [
    "##################################################\n",
    "# Minimize Function w/ Many Variables\n",
    "##################################################"
   ]
  },
  {
   "cell_type": "code",
   "execution_count": 17,
   "metadata": {},
   "outputs": [
    {
     "data": {
      "text/plain": [
       "'This function can handle multivariate inputs and outputs and has more \\n   complicated optimization algorithms to be able to handle this. \\n   In addition, minimize() can handle constraints on the \\n   solution to your problem. \\n   You can specify three types of constraints:\\n   - LinearConstraint: The solution is constrained by taking the inner product of the solution x values with\\n     a user-input array and comparing the result to a lower and upper bound.\\n   - NonlinearConstraint: The solution is constrained by applying a user-supplied function to the solution\\n     x values and comparing the return value with a lower and upper bound.\\n   - Bounds: The solution x values are constrained to lie between a lower and upper bound.\\n\\n    Note: to maximize a function you want to multiply your objective function by -1 to find the x-values that produce\\n    the largest negative numbers.\\n'"
      ]
     },
     "execution_count": 17,
     "metadata": {},
     "output_type": "execute_result"
    }
   ],
   "source": [
    "\"\"\"This function can handle multivariate inputs and outputs and has more \n",
    "   complicated optimization algorithms to be able to handle this. \n",
    "   In addition, minimize() can handle constraints on the \n",
    "   solution to your problem. \n",
    "   You can specify three types of constraints:\n",
    "   - LinearConstraint: The solution is constrained by taking the inner product of the solution x values with\n",
    "     a user-input array and comparing the result to a lower and upper bound.\n",
    "   - NonlinearConstraint: The solution is constrained by applying a user-supplied function to the solution\n",
    "     x values and comparing the return value with a lower and upper bound.\n",
    "   - Bounds: The solution x values are constrained to lie between a lower and upper bound.\n",
    "\n",
    "    Note: to maximize a function you want to multiply your objective function by -1 to find the x-values that produce\n",
    "    the largest negative numbers.\n",
    "\"\"\""
   ]
  },
  {
   "cell_type": "code",
   "execution_count": null,
   "metadata": {},
   "outputs": [],
   "source": []
  },
  {
   "cell_type": "code",
   "execution_count": null,
   "metadata": {},
   "outputs": [],
   "source": [
    "# Maximize Revenue From Stock Sales"
   ]
  },
  {
   "cell_type": "code",
   "execution_count": 12,
   "metadata": {},
   "outputs": [],
   "source": [
    "n_buyers = 10\n",
    "n_shares = 15"
   ]
  },
  {
   "cell_type": "code",
   "execution_count": 13,
   "metadata": {},
   "outputs": [],
   "source": [
    "np.random.seed(10)\n",
    "prices = np.random.random(n_buyers)    # prices for each stock\n",
    "money_available = np.random.randint(1, 4, n_buyers) # amount of money buyers have"
   ]
  },
  {
   "cell_type": "code",
   "execution_count": null,
   "metadata": {},
   "outputs": [],
   "source": []
  },
  {
   "cell_type": "code",
   "execution_count": null,
   "metadata": {},
   "outputs": [],
   "source": [
    "# Compute the maximum number of shares each buyer can purchase"
   ]
  },
  {
   "cell_type": "code",
   "execution_count": 14,
   "metadata": {},
   "outputs": [
    {
     "name": "stdout",
     "output_type": "stream",
     "text": [
      "[0.77132064 0.02075195 0.63364823 0.74880388 0.49850701 0.22479665\n",
      " 0.19806286 0.76053071 0.16911084 0.08833981]\n",
      "[1 1 1 3 1 3 3 2 1 1]\n",
      "[ 1.29647768 48.18824404  1.57816269  4.00638948  2.00598984 13.34539487\n",
      " 15.14670609  2.62974258  5.91328161 11.3199242 ]\n"
     ]
    }
   ],
   "source": [
    "n_shares_per_buyer = money_available / prices\n",
    "print(prices, money_available, n_shares_per_buyer, sep=\"\\n\")"
   ]
  },
  {
   "cell_type": "code",
   "execution_count": null,
   "metadata": {},
   "outputs": [],
   "source": []
  },
  {
   "cell_type": "code",
   "execution_count": null,
   "metadata": {},
   "outputs": [],
   "source": [
    "# Define Constraints"
   ]
  },
  {
   "cell_type": "code",
   "execution_count": 27,
   "metadata": {},
   "outputs": [
    {
     "data": {
      "text/plain": [
       "'The constraint is that the sum of the total purchased shares\\n   can’t exceed the total number of shares available.\\n   \\n   To represent this mathematically, you could say that x[0] + x[1] + ... + x[n] = n_shares,\\n   where n is the total number of buyers.\\n   More succinctly, you could take the dot or inner product of a vector\\n   of ones with the solution values, and constrain that to be equal to n_shares.\\n   \\n   Remember that LinearConstraint takes the dot product of the input array with\\n   the solution values and compares it to the lower and upper bound. \\n   \\n   Since LinearConstraint takes the dot product of the solution vector with this argument,\\n   it’ll result in the sum of the purchased shares.\\n\\n   Since lb = ub = n_shares, this is an equality constraint because the sum of the values\\n   must be equal to both lb and ub.\\n   If lb were different from ub, then it would be an inequality constraint.\\n'"
      ]
     },
     "execution_count": 27,
     "metadata": {},
     "output_type": "execute_result"
    }
   ],
   "source": [
    "\"\"\"The constraint is that the sum of the total purchased shares\n",
    "   can’t exceed the total number of shares available.\n",
    "   \n",
    "   To represent this mathematically, you could say that x[0] + x[1] + ... + x[n] = n_shares,\n",
    "   where n is the total number of buyers.\n",
    "   More succinctly, you could take the dot or inner product of a vector\n",
    "   of ones with the solution values, and constrain that to be equal to n_shares.\n",
    "   \n",
    "   Remember that LinearConstraint takes the dot product of the input array with\n",
    "   the solution values and compares it to the lower and upper bound. \n",
    "   \n",
    "   Since LinearConstraint takes the dot product of the solution vector with this argument,\n",
    "   it’ll result in the sum of the purchased shares.\n",
    "\n",
    "   Since lb = ub = n_shares, this is an equality constraint because the sum of the values\n",
    "   must be equal to both lb and ub.\n",
    "   If lb were different from ub, then it would be an inequality constraint.\n",
    "\"\"\""
   ]
  },
  {
   "cell_type": "code",
   "execution_count": null,
   "metadata": {},
   "outputs": [],
   "source": []
  },
  {
   "cell_type": "code",
   "execution_count": 15,
   "metadata": {},
   "outputs": [],
   "source": [
    "constraint = LinearConstraint(np.ones(n_buyers), lb=n_shares, ub=n_shares)"
   ]
  },
  {
   "cell_type": "code",
   "execution_count": 16,
   "metadata": {},
   "outputs": [
    {
     "data": {
      "text/plain": [
       "array([1., 1., 1., 1., 1., 1., 1., 1., 1., 1.])"
      ]
     },
     "execution_count": 16,
     "metadata": {},
     "output_type": "execute_result"
    }
   ],
   "source": [
    "np.ones(n_buyers)"
   ]
  },
  {
   "cell_type": "code",
   "execution_count": null,
   "metadata": {},
   "outputs": [],
   "source": []
  },
  {
   "cell_type": "code",
   "execution_count": null,
   "metadata": {},
   "outputs": [],
   "source": [
    "# Bounds"
   ]
  },
  {
   "cell_type": "code",
   "execution_count": null,
   "metadata": {},
   "outputs": [],
   "source": [
    "\"\"\"Next, create the bounds for the solution variable. The bounds limit the number of\n",
    "   shares purchased to be 0 on the lower side and n_shares_per_buyer on the upper side.\n",
    "   The format that minimize() expects for the bounds is a sequence of tuples of lower and upper bounds\n",
    "\"\"\""
   ]
  },
  {
   "cell_type": "code",
   "execution_count": 17,
   "metadata": {},
   "outputs": [],
   "source": [
    "bounds = [(0, n) for n in n_shares_per_buyer]"
   ]
  },
  {
   "cell_type": "code",
   "execution_count": null,
   "metadata": {},
   "outputs": [],
   "source": []
  },
  {
   "cell_type": "code",
   "execution_count": null,
   "metadata": {},
   "outputs": [],
   "source": [
    "# Objective Function"
   ]
  },
  {
   "cell_type": "code",
   "execution_count": null,
   "metadata": {},
   "outputs": [],
   "source": [
    "\"\"\"The income that you generate from each sale is the price that the buyer pays\n",
    "   multiplied by the number of shares they’re buying. Mathematically, you could write\n",
    "   this as prices[0]*x[0] + prices[1]*x[1] + ... + prices[n]*x[n], where n is again the\n",
    "   total number of buyers.\n",
    "\n",
    "   Once again, you can represent this more succinctly with the inner product, or x.dot(prices).\n",
    "   This means that your objective function should take the current solution values x and the array\n",
    "   of prices as arguments\n",
    "\"\"\""
   ]
  },
  {
   "cell_type": "code",
   "execution_count": 18,
   "metadata": {},
   "outputs": [],
   "source": [
    "def objective_function(x, prices):\n",
    "    return -x.dot(prices)"
   ]
  },
  {
   "cell_type": "code",
   "execution_count": null,
   "metadata": {},
   "outputs": [],
   "source": []
  },
  {
   "cell_type": "code",
   "execution_count": null,
   "metadata": {},
   "outputs": [],
   "source": [
    "# Call Function"
   ]
  },
  {
   "cell_type": "code",
   "execution_count": null,
   "metadata": {},
   "outputs": [],
   "source": [
    "\"\"\"\n",
    "objective_function: The first positional argument must be the function that you’re optimizing.\n",
    "\n",
    "x0: The next argument is an initial guess for the values of the solution. In this case,\n",
    "    you’re just providing a random array of values between 0 and 10, with the length of n_buyers.\n",
    "    For some algorithms or some problems, choosing an appropriate initial guess may be important.\n",
    "    However, for this example, it doesn’t seem too important.\n",
    "\n",
    "args: The next argument is a tuple of other arguments that are necessary to be passed into the\n",
    "    objective function. minimize() will always pass the current value of the solution x into the\n",
    "    objective function, so this argument serves as a place to collect any other input necessary.\n",
    "    In this example, you need to pass prices to objective_function(), so that goes here.\n",
    "\n",
    "constraints: The next argument is a sequence of constraints on the problem. You’re passing the\n",
    "    constraint you generated earlier on the number of available shares.\n",
    "\n",
    "bounds: The last argument is the sequence of bounds on the solution variables that you generated earlier.\n",
    "\"\"\""
   ]
  },
  {
   "cell_type": "code",
   "execution_count": 19,
   "metadata": {},
   "outputs": [],
   "source": [
    "v2_result = minimize(\n",
    "    objective_function,\n",
    "    x0=10 * np.random.random(n_buyers),\n",
    "    args=(prices,),\n",
    "    constraints=constraint,\n",
    "    bounds=bounds,\n",
    ")"
   ]
  },
  {
   "cell_type": "code",
   "execution_count": null,
   "metadata": {},
   "outputs": [],
   "source": [
    "# Results"
   ]
  },
  {
   "cell_type": "code",
   "execution_count": 33,
   "metadata": {},
   "outputs": [
    {
     "data": {
      "text/plain": [
       "'\\nSince the optimization was successful, fun shows the value of the objective\\nfunction at the optimized solution values. You’ll make an income of $8.78 from this sale.\\n'"
      ]
     },
     "execution_count": 33,
     "metadata": {},
     "output_type": "execute_result"
    }
   ],
   "source": [
    "\"\"\"\n",
    "Since the optimization was successful, fun shows the value of the objective\n",
    "function at the optimized solution values. You’ll make an income of $8.78 from this sale.\n",
    "\"\"\""
   ]
  },
  {
   "cell_type": "code",
   "execution_count": 20,
   "metadata": {},
   "outputs": [
    {
     "name": "stdout",
     "output_type": "stream",
     "text": [
      "     fun: -8.783020157087599\n",
      "     jac: array([-0.7713207 , -0.02075195, -0.6336484 , -0.74880397, -0.49850702,\n",
      "       -0.22479653, -0.19806278, -0.76053071, -0.16911077, -0.08833981])\n",
      " message: 'Optimization terminated successfully'\n",
      "    nfev: 187\n",
      "     nit: 17\n",
      "    njev: 17\n",
      "  status: 0\n",
      " success: True\n",
      "       x: array([1.29647768e+00, 1.44883543e-13, 1.57816269e+00, 4.00638948e+00,\n",
      "       2.00598984e+00, 3.48323773e+00, 2.99760217e-14, 2.62974258e+00,\n",
      "       1.13511185e-14, 3.99716714e-14])\n"
     ]
    }
   ],
   "source": [
    "print(v2_result)"
   ]
  },
  {
   "cell_type": "code",
   "execution_count": 22,
   "metadata": {},
   "outputs": [
    {
     "name": "stdout",
     "output_type": "stream",
     "text": [
      "The total number of shares is: 15.000000000000002\n",
      "Leftover money for each buyer: [1.32116540e-14 1.00000000e+00 1.33226763e-14 2.62012634e-14\n",
      " 1.58761893e-14 2.21697984e+00 3.00000000e+00 3.08642001e-14\n",
      " 1.00000000e+00 1.00000000e+00]\n"
     ]
    }
   ],
   "source": [
    "print(\"The total number of shares is:\", sum(v2_result.x))\n",
    "print(\"Leftover money for each buyer:\", money_available - v2_result.x * prices)"
   ]
  },
  {
   "cell_type": "code",
   "execution_count": null,
   "metadata": {},
   "outputs": [],
   "source": []
  },
  {
   "cell_type": "code",
   "execution_count": null,
   "metadata": {},
   "outputs": [],
   "source": []
  },
  {
   "cell_type": "code",
   "execution_count": null,
   "metadata": {},
   "outputs": [],
   "source": []
  },
  {
   "cell_type": "code",
   "execution_count": null,
   "metadata": {},
   "outputs": [],
   "source": []
  },
  {
   "cell_type": "code",
   "execution_count": null,
   "metadata": {},
   "outputs": [],
   "source": []
  },
  {
   "cell_type": "code",
   "execution_count": null,
   "metadata": {},
   "outputs": [],
   "source": []
  },
  {
   "cell_type": "code",
   "execution_count": null,
   "metadata": {},
   "outputs": [],
   "source": []
  },
  {
   "cell_type": "code",
   "execution_count": null,
   "metadata": {},
   "outputs": [],
   "source": []
  },
  {
   "cell_type": "code",
   "execution_count": null,
   "metadata": {},
   "outputs": [],
   "source": []
  },
  {
   "cell_type": "code",
   "execution_count": null,
   "metadata": {},
   "outputs": [],
   "source": []
  },
  {
   "cell_type": "code",
   "execution_count": null,
   "metadata": {},
   "outputs": [],
   "source": []
  },
  {
   "cell_type": "code",
   "execution_count": null,
   "metadata": {},
   "outputs": [],
   "source": []
  },
  {
   "cell_type": "code",
   "execution_count": null,
   "metadata": {},
   "outputs": [],
   "source": []
  },
  {
   "cell_type": "code",
   "execution_count": null,
   "metadata": {},
   "outputs": [],
   "source": []
  },
  {
   "cell_type": "code",
   "execution_count": null,
   "metadata": {},
   "outputs": [],
   "source": []
  },
  {
   "cell_type": "code",
   "execution_count": null,
   "metadata": {},
   "outputs": [],
   "source": []
  },
  {
   "cell_type": "code",
   "execution_count": null,
   "metadata": {},
   "outputs": [],
   "source": []
  }
 ],
 "metadata": {
  "kernelspec": {
   "display_name": "Python 3",
   "language": "python",
   "name": "python3"
  },
  "language_info": {
   "codemirror_mode": {
    "name": "ipython",
    "version": 3
   },
   "file_extension": ".py",
   "mimetype": "text/x-python",
   "name": "python",
   "nbconvert_exporter": "python",
   "pygments_lexer": "ipython3",
   "version": "3.8.3"
  }
 },
 "nbformat": 4,
 "nbformat_minor": 4
}
