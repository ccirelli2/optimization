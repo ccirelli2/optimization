{
 "cells": [
  {
   "cell_type": "code",
   "execution_count": null,
   "metadata": {},
   "outputs": [],
   "source": [
    "\"\"\" Resource Optimization\n",
    "    Ref: https://realpython.com/linear-programming-python/#using-scipy\n",
    "\n",
    "\"\"\""
   ]
  },
  {
   "cell_type": "code",
   "execution_count": 1,
   "metadata": {},
   "outputs": [],
   "source": [
    "# Import Libraries\n",
    "from pulp import LpMaximize, LpProblem, LpStatus, lpSum, LpVariable"
   ]
  },
  {
   "cell_type": "code",
   "execution_count": null,
   "metadata": {},
   "outputs": [],
   "source": []
  },
  {
   "cell_type": "code",
   "execution_count": 2,
   "metadata": {},
   "outputs": [],
   "source": [
    "# Instantiate Model\n",
    "model = LpProblem(name=\"small-problem\", sense=LpMaximize)"
   ]
  },
  {
   "cell_type": "code",
   "execution_count": 3,
   "metadata": {},
   "outputs": [],
   "source": [
    "# Initialize the decision variables\n",
    "x = LpVariable(name=\"x\", lowBound=0)\n",
    "y = LpVariable(name=\"y\", lowBound=0)"
   ]
  },
  {
   "cell_type": "code",
   "execution_count": 7,
   "metadata": {},
   "outputs": [
    {
     "data": {
      "text/plain": [
       "pulp.pulp.LpConstraint"
      ]
     },
     "execution_count": 7,
     "metadata": {},
     "output_type": "execute_result"
    }
   ],
   "source": [
    "# Define Expressions\n",
    "expression = 2 * x + 4 * y\n",
    "constraint = 2 * x + 4 * y >= 8\n",
    "type(expression)\n",
    "type(constraint)"
   ]
  },
  {
   "cell_type": "code",
   "execution_count": 8,
   "metadata": {},
   "outputs": [],
   "source": [
    "# Add Constraints to Model\n",
    "model += (2 * x + y <= 20, \"red_constraint\")\n",
    "model += (4 * x - 5 * y >= -10, \"blue_constraint\")\n",
    "model += (-x + 2 * y >= -2, \"yellow_constraint\")\n",
    "model += (-x + 5 * y == 15, \"green_constraint\")"
   ]
  },
  {
   "cell_type": "code",
   "execution_count": 9,
   "metadata": {},
   "outputs": [],
   "source": [
    "# Add the objective function to the model\n",
    "obj_func = x + 2 * y\n",
    "model += obj_func"
   ]
  },
  {
   "cell_type": "code",
   "execution_count": 10,
   "metadata": {},
   "outputs": [
    {
     "data": {
      "text/plain": [
       "small-problem:\n",
       "MAXIMIZE\n",
       "1*x + 2*y + 0\n",
       "SUBJECT TO\n",
       "red_constraint: 2 x + y <= 20\n",
       "\n",
       "blue_constraint: 4 x - 5 y >= -10\n",
       "\n",
       "yellow_constraint: - x + 2 y >= -2\n",
       "\n",
       "green_constraint: - x + 5 y = 15\n",
       "\n",
       "VARIABLES\n",
       "x Continuous\n",
       "y Continuous"
      ]
     },
     "execution_count": 10,
     "metadata": {},
     "output_type": "execute_result"
    }
   ],
   "source": [
    "# Print Full Definition of Model\n",
    "model"
   ]
  },
  {
   "cell_type": "code",
   "execution_count": 11,
   "metadata": {},
   "outputs": [],
   "source": [
    "# Solve Model\n",
    "status =  model.solve()"
   ]
  },
  {
   "cell_type": "code",
   "execution_count": 14,
   "metadata": {},
   "outputs": [
    {
     "name": "stdout",
     "output_type": "stream",
     "text": [
      "status: 1, Optimal\n",
      "objective: 16.8181817\n",
      "x: 7.7272727\n",
      "y: 4.5454545\n",
      "red_constraint: -9.99999993922529e-08\n",
      "blue_constraint: 18.181818300000003\n",
      "yellow_constraint: 3.3636362999999996\n",
      "green_constraint: -2.0000000233721948e-07\n"
     ]
    }
   ],
   "source": [
    "print(f\"status: {model.status}, {LpStatus[model.status]}\")\n",
    "\n",
    "\n",
    "print(f\"objective: {model.objective.value()}\")\n",
    "\n",
    "for var in model.variables():\n",
    "    print(f\"{var.name}: {var.value()}\")\n",
    "\n",
    "for name, constraint in model.constraints.items():\n",
    "    print(f\"{name}: {constraint.value()}\")"
   ]
  },
  {
   "cell_type": "code",
   "execution_count": null,
   "metadata": {},
   "outputs": [],
   "source": []
  },
  {
   "cell_type": "code",
   "execution_count": null,
   "metadata": {},
   "outputs": [],
   "source": []
  },
  {
   "cell_type": "code",
   "execution_count": null,
   "metadata": {},
   "outputs": [],
   "source": []
  },
  {
   "cell_type": "code",
   "execution_count": null,
   "metadata": {},
   "outputs": [],
   "source": []
  },
  {
   "cell_type": "code",
   "execution_count": null,
   "metadata": {},
   "outputs": [],
   "source": []
  },
  {
   "cell_type": "code",
   "execution_count": null,
   "metadata": {},
   "outputs": [],
   "source": []
  },
  {
   "cell_type": "code",
   "execution_count": null,
   "metadata": {},
   "outputs": [],
   "source": []
  }
 ],
 "metadata": {
  "kernelspec": {
   "display_name": "Python 3",
   "language": "python",
   "name": "python3"
  },
  "language_info": {
   "codemirror_mode": {
    "name": "ipython",
    "version": 3
   },
   "file_extension": ".py",
   "mimetype": "text/x-python",
   "name": "python",
   "nbconvert_exporter": "python",
   "pygments_lexer": "ipython3",
   "version": "3.8.3"
  }
 },
 "nbformat": 4,
 "nbformat_minor": 4
}
